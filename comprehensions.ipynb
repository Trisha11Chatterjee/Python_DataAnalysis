{
  "nbformat": 4,
  "nbformat_minor": 0,
  "metadata": {
    "colab": {
      "provenance": []
    },
    "kernelspec": {
      "name": "python3",
      "display_name": "Python 3"
    },
    "language_info": {
      "name": "python"
    }
  },
  "cells": [
    {
      "cell_type": "code",
      "source": [
        "# Imports\n",
        "import math\n",
        "import collections\n",
        "import numpy as np\n",
        "import pandas as pd\n",
        "import matplotlib.pyplot as pp\n",
        "\n",
        "# Enables inline plotting in Jupyter\n",
        "%matplotlib inline\n",
        "\n",
        "# 1. List comprehensions\n",
        "# Generating squares of numbers from 1 to 10 using a loop\n",
        "squares = []\n",
        "for i in range(1, 11):\n",
        "    squares.append(i**2)\n",
        "print(squares)\n",
        "\n",
        "# Generating squares using list comprehension\n",
        "squares = [i**2 for i in range(1, 11)]\n",
        "print(squares)\n",
        "\n",
        "# Generating squares divisible by 4 using list comprehension\n",
        "squares_by_four = [i**2 for i in range(1, 11) if i**2 % 4 == 0]\n",
        "print(squares_by_four)\n",
        "\n",
        "# 2. Dictionary comprehensions\n",
        "# Creating a dictionary of squares\n",
        "squares_dict = {i: i**2 for i in range(1, 11)}\n",
        "print(squares_dict)\n",
        "\n",
        "# Reversing key-value pairs in a dictionary\n",
        "capitals_by_country = {'United States': 'Washington, DC', 'France': 'Paris', 'Italy': 'Rome'}\n",
        "countries_by_capital = {capital: country for country, capital in capitals_by_country.items()}\n",
        "print(countries_by_capital)\n",
        "\n",
        "# 3. Generator expressions\n",
        "# Summing squares using a generator expression\n",
        "sum_of_squares = sum(i**2 for i in range(1, 11))\n",
        "print(sum_of_squares)\n",
        "\n",
        "# 4. Nested comprehensions\n",
        "# Counting numbers in a nested loop\n",
        "counting = []\n",
        "for i in range(1, 11):\n",
        "    for j in range(1, i+1):\n",
        "        counting.append(j)\n",
        "print(counting)\n",
        "\n",
        "# Using nested comprehensions\n",
        "counting = [j for i in range(1, 11) for j in range(1, i+1)]\n",
        "print(counting)\n"
      ],
      "metadata": {
        "id": "G0-3Qob2T4n_",
        "outputId": "3255b857-0fbd-449f-c93e-c198aa61e488",
        "colab": {
          "base_uri": "https://localhost:8080/"
        }
      },
      "execution_count": 13,
      "outputs": [
        {
          "output_type": "stream",
          "name": "stdout",
          "text": [
            "[1, 4, 9, 16, 25, 36, 49, 64, 81, 100]\n",
            "[1, 4, 9, 16, 25, 36, 49, 64, 81, 100]\n",
            "[4, 16, 36, 64, 100]\n",
            "{1: 1, 2: 4, 3: 9, 4: 16, 5: 25, 6: 36, 7: 49, 8: 64, 9: 81, 10: 100}\n",
            "{'Washington, DC': 'United States', 'Paris': 'France', 'Rome': 'Italy'}\n",
            "385\n",
            "[1, 1, 2, 1, 2, 3, 1, 2, 3, 4, 1, 2, 3, 4, 5, 1, 2, 3, 4, 5, 6, 1, 2, 3, 4, 5, 6, 7, 1, 2, 3, 4, 5, 6, 7, 8, 1, 2, 3, 4, 5, 6, 7, 8, 9, 1, 2, 3, 4, 5, 6, 7, 8, 9, 10]\n",
            "[1, 1, 2, 1, 2, 3, 1, 2, 3, 4, 1, 2, 3, 4, 5, 1, 2, 3, 4, 5, 6, 1, 2, 3, 4, 5, 6, 7, 1, 2, 3, 4, 5, 6, 7, 8, 1, 2, 3, 4, 5, 6, 7, 8, 9, 1, 2, 3, 4, 5, 6, 7, 8, 9, 10]\n"
          ]
        }
      ]
    }
  ]
}